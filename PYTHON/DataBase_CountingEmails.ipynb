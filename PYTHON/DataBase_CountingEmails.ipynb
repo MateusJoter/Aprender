{
 "cells": [
  {
   "cell_type": "code",
   "execution_count": 1,
   "id": "13652aae-0e9e-46f1-811a-a4a776a3490c",
   "metadata": {},
   "outputs": [],
   "source": [
    "import sqlite3 as sql"
   ]
  },
  {
   "cell_type": "code",
   "execution_count": 2,
   "id": "281f9871-3163-49d9-b5a0-690fcf3c77fb",
   "metadata": {},
   "outputs": [],
   "source": [
    "# Cria o Banco de Dados\n",
    "con = sql.connect(R'C:\\Users\\Mateus Joter\\Desktop\\Aprender\\DATABASES\\emaildb.sqlite')"
   ]
  },
  {
   "cell_type": "code",
   "execution_count": 3,
   "id": "1a971acb-b9a5-4d8d-b961-b5c58f3a0b20",
   "metadata": {},
   "outputs": [],
   "source": [
    "# Cria o Cursor do Banco de Dados\n",
    "cur = con.cursor()"
   ]
  },
  {
   "cell_type": "code",
   "execution_count": 4,
   "id": "f1431160-bf67-4f25-a6b6-c5ce3c7130a3",
   "metadata": {
    "scrolled": true
   },
   "outputs": [
    {
     "data": {
      "text/plain": [
       "<sqlite3.Cursor at 0x1ddf94999c0>"
      ]
     },
     "execution_count": 4,
     "metadata": {},
     "output_type": "execute_result"
    }
   ],
   "source": [
    "# Cria as tabelas usando CREATE TABLE chamado por cur.execute\n",
    "cur.execute('''\n",
    "CREATE TABLE Counts (org TEXT, count INTEGER)''')"
   ]
  },
  {
   "cell_type": "code",
   "execution_count": 5,
   "id": "95340512-c661-45bc-a675-bb9f020dfa6c",
   "metadata": {},
   "outputs": [
    {
     "data": {
      "text/plain": [
       "('Counts',)"
      ]
     },
     "execution_count": 5,
     "metadata": {},
     "output_type": "execute_result"
    }
   ],
   "source": [
    "# Dá para cosultar se a tabela foi criada consultando o sqlite_master e devolvendo com .fetchone():\n",
    "res = cur.execute(\"SELECT name FROM sqlite_master\")\n",
    "res.fetchone()"
   ]
  },
  {
   "cell_type": "code",
   "execution_count": 6,
   "id": "bd7d9c57-0295-46be-8026-77499e7cdcb2",
   "metadata": {},
   "outputs": [
    {
     "data": {
      "text/plain": [
       "True"
      ]
     },
     "execution_count": 6,
     "metadata": {},
     "output_type": "execute_result"
    }
   ],
   "source": [
    "# Tambem dá para analisar a tabela criada, segue-se:\n",
    "res = cur.execute(\"SELECT name FROM sqlite_master WHERE name='spam'\")\n",
    "res.fetchone() is None"
   ]
  },
  {
   "cell_type": "code",
   "execution_count": 7,
   "id": "3b3ab7b3-4984-42fb-ab25-2ce1cb3bce0e",
   "metadata": {},
   "outputs": [
    {
     "name": "stdin",
     "output_type": "stream",
     "text": [
      "Enter file name:  \n"
     ]
    }
   ],
   "source": [
    "# Imbutindo valores com INSERT INTO:\n",
    "fname = input('Enter file name: ')\n",
    "if (len(fname) < 1): fname = 'mbox.txt'\n",
    "fh = open(fname)\n",
    "for line in fh:\n",
    "    if not line.startswith('From: '): continue\n",
    "    pieces = line.split()\n",
    "    email = pieces[1]\n",
    "    org = email.split('@')[1]\n",
    "    cur.execute('SELECT count FROM Counts WHERE org = ? ', (org,))\n",
    "    row = cur.fetchone()\n",
    "    if row is None:\n",
    "        cur.execute('''INSERT INTO Counts (org, count)\n",
    "                VALUES (?, 1)''', (org,))\n",
    "    else:\n",
    "        cur.execute('UPDATE Counts SET count = count + 1 WHERE org = ?',\n",
    "                    (org,))"
   ]
  },
  {
   "cell_type": "code",
   "execution_count": 8,
   "id": "3e99cf2c-ccf5-421f-b360-cb1627680116",
   "metadata": {},
   "outputs": [],
   "source": [
    "# INSERT inicia implicitamente a transação, que deve ser confirmada com .commit() no objeto de conexão após as alterações\n",
    "con.commit()\n",
    "\n",
    "# Nota: Presta atenção, depois do commit, JÁ ERA."
   ]
  },
  {
   "cell_type": "code",
   "execution_count": 9,
   "id": "5a979f7d-167e-44b7-b40a-6e4a450c5129",
   "metadata": {},
   "outputs": [
    {
     "data": {
      "text/plain": [
       "[('uct.ac.za',),\n",
       " ('media.berkeley.edu',),\n",
       " ('umich.edu',),\n",
       " ('iupui.edu',),\n",
       " ('caret.cam.ac.uk',),\n",
       " ('gmail.com',),\n",
       " ('indiana.edu',),\n",
       " ('et.gatech.edu',),\n",
       " ('vt.edu',),\n",
       " ('lancaster.ac.uk',),\n",
       " ('ucdavis.edu',),\n",
       " ('ufp.pt',),\n",
       " ('txstate.edu',),\n",
       " ('stanford.edu',),\n",
       " ('whitman.edu',),\n",
       " ('rsmart.com',),\n",
       " ('fhda.edu',),\n",
       " ('bu.edu',),\n",
       " ('unicon.net',),\n",
       " ('loi.nl',),\n",
       " ('utoronto.ca',)]"
      ]
     },
     "execution_count": 9,
     "metadata": {},
     "output_type": "execute_result"
    }
   ],
   "source": [
    "# Analisando a tabela e devolvendo com .fetchall()\n",
    "res = cur.execute(\"SELECT org FROM Counts\")\n",
    "res.fetchall()"
   ]
  },
  {
   "cell_type": "code",
   "execution_count": null,
   "id": "a5f88e78-24cf-4ed7-b6a1-a95bde6b873d",
   "metadata": {},
   "outputs": [],
   "source": []
  }
 ],
 "metadata": {
  "kernelspec": {
   "display_name": "Python 3 (ipykernel)",
   "language": "python",
   "name": "python3"
  },
  "language_info": {
   "codemirror_mode": {
    "name": "ipython",
    "version": 3
   },
   "file_extension": ".py",
   "mimetype": "text/x-python",
   "name": "python",
   "nbconvert_exporter": "python",
   "pygments_lexer": "ipython3",
   "version": "3.12.6"
  }
 },
 "nbformat": 4,
 "nbformat_minor": 5
}
